{
 "cells": [
  {
   "cell_type": "markdown",
   "id": "ce060bc6",
   "metadata": {},
   "source": [
    "# MSA 2024 Phase 2 - Part 2"
   ]
  },
  {
   "cell_type": "code",
   "execution_count": 1,
   "id": "7d488f42",
   "metadata": {},
   "outputs": [],
   "source": [
    "import sklearn\n",
    "import numpy as np\n",
    "import pandas as pd\n",
    "import seaborn as sns\n",
    "import matplotlib.pyplot as plt\n",
    "from datetime import datetime, timedelta\n",
    "from pandas.api.types import is_numeric_dtype\n",
    "%matplotlib inline"
   ]
  },
  {
   "cell_type": "markdown",
   "id": "08c4bc0a",
   "metadata": {},
   "source": [
    "## 1. Load and split preprocessed data"
   ]
  },
  {
   "cell_type": "code",
   "execution_count": 2,
   "id": "a2232ca7",
   "metadata": {},
   "outputs": [],
   "source": [
    "df = pd.read_csv('../datasets/W store sales/result_data.csv')\n",
    "for index, row in df[df['Weekly_Sales']==0].iterrows():\n",
    "    df.at[index, 'Weekly_Sales'] = row['Weekly_Sales'] + 0.01\n",
    "\n",
    "test_ratio = 0.2\n",
    "train_dates = df[\"Date\"].unique()[:-int(test_ratio*len(df[\"Date\"].unique()))]\n",
    "test_dates = df[\"Date\"].unique()[-int(test_ratio*len(df[\"Date\"].unique())):]\n",
    "numeric_columns = [col for col in df.columns[1:] if is_numeric_dtype(df[col]) and col!='Weekly_Sales']\n",
    "df_train = df[df[\"Date\"].isin(train_dates)]\n",
    "df_test = df[df[\"Date\"].isin(test_dates)]\n",
    "x_train = df_train[numeric_columns]\n",
    "x_test = df_test[numeric_columns]\n",
    "y_train = df_train[\"Weekly_Sales\"]\n",
    "y_test = df_test[\"Weekly_Sales\"]"
   ]
  },
  {
   "cell_type": "code",
   "execution_count": 3,
   "id": "b2085ec0",
   "metadata": {},
   "outputs": [
    {
     "data": {
      "text/plain": [
       "((338738, 19), (82832, 19), (338738,), (82832,))"
      ]
     },
     "execution_count": 3,
     "metadata": {},
     "output_type": "execute_result"
    }
   ],
   "source": [
    "x_train.shape, x_test.shape, y_train.shape, y_test.shape"
   ]
  },
  {
   "cell_type": "code",
   "execution_count": 4,
   "id": "82b64b4b",
   "metadata": {},
   "outputs": [],
   "source": [
    "# from sklearn.model_selection import train_test_split\n",
    "# # Create an 80-20 train-test split on the dataset\n",
    "# X_train, X_test, y_train, y_test = train_test_split(X, y, test_size=0.2, random_state=42)"
   ]
  },
  {
   "cell_type": "markdown",
   "id": "c03221b0",
   "metadata": {},
   "source": [
    "## 2. Choose an algorithm"
   ]
  },
  {
   "cell_type": "code",
   "execution_count": 5,
   "id": "e560c3b5",
   "metadata": {},
   "outputs": [],
   "source": [
    "from sklearn.linear_model import LinearRegression, LogisticRegression\n",
    "from sklearn.ensemble import RandomForestRegressor\n",
    "# Load an untuned logistic regression model\n",
    "model = RandomForestRegressor(n_estimators=100, random_state=42)"
   ]
  },
  {
   "cell_type": "markdown",
   "id": "3e06351b",
   "metadata": {},
   "source": [
    "## 3. Train and test a model"
   ]
  },
  {
   "cell_type": "code",
   "execution_count": 6,
   "id": "46ba9ad4",
   "metadata": {},
   "outputs": [],
   "source": [
    "from sklearn.model_selection import GridSearchCV, cross_val_score\n",
    "from sklearn.linear_model import LinearRegression, Ridge, Lasso\n",
    "from sklearn import svm\n",
    "from sklearn.neighbors import KNeighborsRegressor\n",
    "from sklearn.ensemble import RandomForestRegressor"
   ]
  },
  {
   "cell_type": "code",
   "execution_count": 7,
   "id": "460c01b9",
   "metadata": {},
   "outputs": [],
   "source": [
    "from sklearn.metrics import mean_squared_error, mean_absolute_error, mean_absolute_percentage_error, root_mean_squared_error, r2_score\n",
    "def getScores(model):\n",
    "    y_pred = model.predict(x_test)\n",
    "    mae = mean_absolute_error(y_test, y_pred)\n",
    "    mape = mean_absolute_percentage_error(y_test, y_pred)\n",
    "    mse = mean_squared_error(y_test, y_pred)\n",
    "    rmse = root_mean_squared_error(y_test, y_pred)\n",
    "    r2 = r2_score(y_test, y_pred)\n",
    "    return {\"MAE\": mae, \"MAPE\": mape, \"MSE\": mse, \"RMSE\": rmse, \"R2\": r2}"
   ]
  },
  {
   "cell_type": "code",
   "execution_count": 8,
   "id": "db9d25f3",
   "metadata": {},
   "outputs": [
    {
     "name": "stdout",
     "output_type": "stream",
     "text": [
      "-630.4269583205648\n"
     ]
    }
   ],
   "source": [
    "model_Linear = LinearRegression()\n",
    "score = cross_val_score(model_Linear, x_train, y_train, cv=5, scoring=\"neg_mean_absolute_percentage_error\").mean()\n",
    "print(score)"
   ]
  },
  {
   "cell_type": "code",
   "execution_count": 9,
   "id": "fd4b3763",
   "metadata": {},
   "outputs": [
    {
     "name": "stdout",
     "output_type": "stream",
     "text": [
      "{'alpha': 0.1}\n",
      "{'MAE': 14467.12794349301, 'MAPE': 1626.0331674165393, 'MSE': 436333506.7511351, 'RMSE': 20888.59752954073, 'R2': 0.09579611400628862}\n"
     ]
    }
   ],
   "source": [
    "model_Ridge = Ridge()\n",
    "parameters = {'alpha': [0.1, 0.5, 1.0, 1.5]}\n",
    "grid_Ridge = GridSearchCV(model_Ridge, parameters, cv=5)\n",
    "grid_Ridge.fit(x_train,y_train)\n",
    "print(grid_Ridge.best_params_)\n",
    "print(getScores(grid_Ridge))"
   ]
  },
  {
   "cell_type": "code",
   "execution_count": 10,
   "id": "2813fdc7",
   "metadata": {},
   "outputs": [
    {
     "name": "stdout",
     "output_type": "stream",
     "text": [
      "Best params:  {'alpha': 0.1, 'max_iter': 2}\n",
      "{'MAE': 14467.12794349301, 'MAPE': 1626.0331674165393, 'MSE': 436333506.7511351, 'RMSE': 20888.59752954073, 'R2': 0.09579611400628862}\n"
     ]
    }
   ],
   "source": [
    "model_Lasso = Lasso(alpha=0.2,max_iter=2)\n",
    "parameters = {'alpha': [0.1, 0.5, 1.0, 1.5], 'max_iter': [2, 10, 100]}\n",
    "grid_Lasso = GridSearchCV(model_Ridge, parameters, cv=5)\n",
    "grid_Lasso.fit(x_train,y_train)\n",
    "print(\"Best params: \", grid_Lasso.best_params_)\n",
    "print(getScores(grid_Lasso))"
   ]
  },
  {
   "cell_type": "code",
   "execution_count": 11,
   "id": "564d85ad",
   "metadata": {},
   "outputs": [],
   "source": [
    "# model_svr = svm.SVR()\n",
    "# parameters = {'kernel':['linear'], 'C':[0.1],'gamma':[0.01]}\n",
    "# grid_svr = GridSearchCV(model_svr, parameters, cv=5)\n",
    "# grid_svr.fit(x_train,y_train)\n",
    "# print(\"Best params: \", grid_svr.best_params_)\n",
    "# print(getScores(grid_svr))"
   ]
  },
  {
   "cell_type": "code",
   "execution_count": null,
   "id": "b5b2fb83",
   "metadata": {},
   "outputs": [],
   "source": [
    "model_KNN = KNeighborsRegressor()\n",
    "parameters = {'n_neighbors':[3,10,100], 'weights':['uniform','distance'], 'algorithm':['auto','ball_tree','kd_tree','brute']}\n",
    "grid_KNN = GridSearchCV(model_KNN, parameters, cv=5)\n",
    "grid_KNN.fit(x_train,y_train)\n",
    "print(\"Best params: \", grid_KNN.best_params_)\n",
    "print(getScores(grid_KNN))"
   ]
  },
  {
   "cell_type": "code",
   "execution_count": null,
   "id": "5a5b02ee",
   "metadata": {},
   "outputs": [],
   "source": [
    "model_forest = RandomForestRegressor(n_estimators=300)"
   ]
  },
  {
   "cell_type": "code",
   "execution_count": null,
   "id": "cab1a439",
   "metadata": {},
   "outputs": [],
   "source": [
    "from sklearn.neural_network import MLPRegressor\n",
    "model_mlp = MLPRegressor(hidden_layer_sizes=(200,100),activation='relu',alpha=0.001,learning_rate_init=0.001)"
   ]
  },
  {
   "cell_type": "code",
   "execution_count": null,
   "id": "619bb3d3",
   "metadata": {},
   "outputs": [
    {
     "name": "stdout",
     "output_type": "stream",
     "text": [
      "1742.5320836138208\n",
      "13238533.873726811\n"
     ]
    },
    {
     "name": "stderr",
     "output_type": "stream",
     "text": [
      "C:\\Users\\Francis\\AppData\\Local\\Temp\\ipykernel_25496\\3858740626.py:19: UserWarning: Boolean Series key will be reindexed to match DataFrame index.\n",
      "  plt.plot(df_test[df[\"Store\"]==1][df[\"Dept\"]==1].Date, y_test[df[\"Store\"]==1][df[\"Dept\"]==1], marker='o', label=\"Test Actual\")\n",
      "C:\\Users\\Francis\\AppData\\Local\\Temp\\ipykernel_25496\\3858740626.py:19: UserWarning: Boolean Series key will be reindexed to match DataFrame index.\n",
      "  plt.plot(df_test[df[\"Store\"]==1][df[\"Dept\"]==1].Date, y_test[df[\"Store\"]==1][df[\"Dept\"]==1], marker='o', label=\"Test Actual\")\n",
      "C:\\Users\\Francis\\AppData\\Local\\Temp\\ipykernel_25496\\3858740626.py:20: UserWarning: Boolean Series key will be reindexed to match DataFrame index.\n",
      "  plt.plot(df_test[df[\"Store\"]==1][df[\"Dept\"]==1].Date, y_pred[df[\"Store\"]==1][df[\"Dept\"]==1], marker='o', label=\"Test Predict\")\n",
      "C:\\Users\\Francis\\AppData\\Local\\Temp\\ipykernel_25496\\3858740626.py:20: UserWarning: Boolean Series key will be reindexed to match DataFrame index.\n",
      "  plt.plot(df_test[df[\"Store\"]==1][df[\"Dept\"]==1].Date, y_pred[df[\"Store\"]==1][df[\"Dept\"]==1], marker='o', label=\"Test Predict\")\n"
     ]
    },
    {
     "data": {
      "image/png": "[encoded data removed]",
      "text/plain": [
       "<Figure size 1500x500 with 1 Axes>"
      ]
     },
     "metadata": {},
     "output_type": "display_data"
    }
   ],
   "source": [
    "  # Train a model using a training set\n",
    "\n",
    "model.fit(x_train, y_train)\n",
    "# Get predictions using the features of a test set\n",
    "predictions = model.predict(x_test)\n",
    "# Test a model using predictions and the targets of a test set\n",
    "## Classification\n",
    "# from sklearn.metrics import accuracy_score\n",
    "# accuracy = accuracy_score(y_train, predictions)\n",
    "## Regression\n",
    "from sklearn.metrics import mean_squared_error, mean_absolute_error, RMSE, SMAPE, r2_score\n",
    "\n",
    "mae = mean_absolute_error(y_test, predictions)\n",
    "mse = mean_squared_error(y_test, predictions)\n",
    "print(mae)\n",
    "print(mse)\n",
    "y_pred = pd.Series(predictions, index=y_test.index)\n",
    "plt.figure(figsize=(15,5))\n",
    "plt.plot(df_test[df[\"Store\"]==1][df[\"Dept\"]==1].Date, y_test[df[\"Store\"]==1][df[\"Dept\"]==1], marker='o', label=\"Test Actual\")\n",
    "plt.plot(df_test[df[\"Store\"]==1][df[\"Dept\"]==1].Date, y_pred[df[\"Store\"]==1][df[\"Dept\"]==1], marker='o', label=\"Test Predict\")\n",
    "plt.show()"
   ]
  },
  {
   "cell_type": "code",
   "execution_count": null,
   "id": "7591f887",
   "metadata": {},
   "outputs": [
    {
     "name": "stdout",
     "output_type": "stream",
     "text": [
      "16976.190000000002\n",
      "16976.19\n"
     ]
    }
   ],
   "source": []
  },
  {
   "cell_type": "code",
   "execution_count": null,
   "id": "11a289da",
   "metadata": {},
   "outputs": [],
   "source": []
  },
  {
   "cell_type": "markdown",
   "id": "5cafcd88",
   "metadata": {},
   "source": [
    "## 4. Evaluate the model "
   ]
  },
  {
   "cell_type": "code",
   "execution_count": null,
   "id": "55b0785c",
   "metadata": {},
   "outputs": [],
   "source": [
    "#"
   ]
  },
  {
   "cell_type": "markdown",
   "id": "802b550a",
   "metadata": {},
   "source": [
    "## 5. Summary"
   ]
  },
  {
   "cell_type": "markdown",
   "id": "0dda11f9",
   "metadata": {},
   "source": []
  }
 ],
 "metadata": {
  "kernelspec": {
   "display_name": "Python 3 (ipykernel)",
   "language": "python",
   "name": "python3"
  },
  "language_info": {
   "codemirror_mode": {
    "name": "ipython",
    "version": 3
   },
   "file_extension": ".py",
   "mimetype": "text/x-python",
   "name": "python",
   "nbconvert_exporter": "python",
   "pygments_lexer": "ipython3",
   "version": "3.9.0"
  }
 },
 "nbformat": 4,
 "nbformat_minor": 5
}
